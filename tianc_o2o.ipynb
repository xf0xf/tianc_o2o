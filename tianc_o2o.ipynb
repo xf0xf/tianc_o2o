{
 "cells": [
  {
   "cell_type": "code",
   "execution_count": 6,
   "metadata": {},
   "outputs": [],
   "source": [
    "import pandas as pd\n",
    "import numpy as np\n",
    "from sklearn.model_selection import train_test_split\n",
    "from sklearn.linear_model.logistic import LogisticRegression\n",
    "from sklearn import svm\n",
    "from sklearn.ensemble import RandomForestClassifier\n",
    "from sklearn.neighbors import KNeighborsClassifier\n",
    "from sklearn.metrics import accuracy_score, recall_score, precision_score, f1_score\n",
    "from sklearn.model_selection import GridSearchCV\n",
    "import xgboost as xgb\n",
    "from xgboost.sklearn import XGBClassifier\n",
    "import lightgbm as lgb\n",
    "from sklearn.ensemble import GradientBoostingClassifier"
   ]
  },
  {
   "cell_type": "code",
   "execution_count": 7,
   "metadata": {},
   "outputs": [],
   "source": [
    "#读入数据\n",
    "test_ = pd.read_csv(\"D:\\\\py_project\\\\tianc_o2o\\\\data\\\\ccf_offline_stage1_test_revised.csv\" )\n",
    "train_online = pd.read_csv(\"D:\\\\py_project\\\\tianc_o2o\\\\data\\\\ccf_offline_stage1_train.csv\" )\n",
    "train_offline = pd.read_csv(\"D:\\\\py_project\\\\tianc_o2o\\\\data\\\\ccf_online_stage1_train.csv\" )\n",
    "sample_sub = pd.read_csv(\"D:\\\\py_project\\\\tianc_o2o\\\\data\\\\sample_submission.csv\" )"
   ]
  },
  {
   "cell_type": "code",
   "execution_count": null,
   "metadata": {},
   "outputs": [],
   "source": []
  }
 ],
 "metadata": {
  "kernelspec": {
   "display_name": "Python 3",
   "language": "python",
   "name": "python3"
  },
  "language_info": {
   "codemirror_mode": {
    "name": "ipython",
    "version": 3
   },
   "file_extension": ".py",
   "mimetype": "text/x-python",
   "name": "python",
   "nbconvert_exporter": "python",
   "pygments_lexer": "ipython3",
   "version": "3.7.3"
  }
 },
 "nbformat": 4,
 "nbformat_minor": 2
}
